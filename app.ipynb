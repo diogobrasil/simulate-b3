{
  "nbformat": 4,
  "nbformat_minor": 0,
  "metadata": {
    "colab": {
      "provenance": []
    },
    "kernelspec": {
      "name": "python3",
      "display_name": "Python 3"
    },
    "language_info": {
      "name": "python"
    }
  },
  "cells": [
    {
      "cell_type": "markdown",
      "source": [
        "📈 Entendendo o Código do Simulador de Desempenho de Ativos Financeiros\n",
        "Este Jupyter Notebook tem como objetivo detalhar as principais seções do código-fonte do aplicativo Streamlit (app.py), que simula o desempenho de ativos financeiros na bolsa de valores.\n",
        "\n",
        "Ele aborda desde o carregamento dos dados até a visualização dinâmica e a simulação de estratégias de trade."
      ],
      "metadata": {
        "id": "J9LkJOjwc3qb"
      }
    },
    {
      "cell_type": "markdown",
      "source": [
        "#1. Configuração Inicial e Importações\n",
        "O aplicativo Streamlit começa com importações de bibliotecas e configurações básicas da página."
      ],
      "metadata": {
        "id": "7VmIENp3c6ZE"
      }
    },
    {
      "cell_type": "code",
      "source": [
        "import streamlit as st\n",
        "import pandas as pd\n",
        "import numpy as np\n",
        "import time\n",
        "import plotly.graph_objects as go\n",
        "from datetime import date, timedelta\n",
        "import calendar\n",
        "\n",
        "# Configuração da página Streamlit\n",
        "st.set_page_config(layout=\"wide\", page_title=\"Simulação Dinâmica de Ativos\")\n",
        "\n",
        "# Títulos e descrições na interface do usuário\n",
        "st.title(\"📈 Simulador de Desempenho de Ativos Financeiros\")\n",
        "st.write(\"Visualização de valores reais e previstos para ativos da Bolsa.\")"
      ],
      "metadata": {
        "id": "EYqHlGl7c8mr"
      },
      "execution_count": null,
      "outputs": []
    },
    {
      "cell_type": "markdown",
      "source": [
        "* streamlit: Para construir a interface web interativa.\n",
        "\n",
        "* pandas: Para manipulação de DataFrames (dados tabulares).\n",
        "\n",
        "* numpy: Para operações numéricas, especialmente com arrays (.npy).\n",
        "\n",
        "* time: Para introduzir atrasos na plotagem dinâmica.\n",
        "\n",
        "* plotly.graph_objects: Para criar gráficos interativos.\n",
        "\n",
        "* datetime, timedelta, calendar: Para manipulação de datas."
      ],
      "metadata": {
        "id": "Ow-mCbgGc-0n"
      }
    },
    {
      "cell_type": "markdown",
      "source": [
        "# 2. A Classe ActionPredictionTrading\n",
        "Esta classe é o coração da lógica de simulação de trading. Ela foi adaptada para receber dados já preparados (preços reais e previstos para uma semana específica) e simular as operações de trade e a estratégia Buy-and-Hold.\n",
        "\n",
        "Ela não carrega modelos nem faz previsões; ela apenas processa os resultados já obtidos."
      ],
      "metadata": {
        "id": "fCdqYzF1dIrH"
      }
    },
    {
      "cell_type": "code",
      "source": [
        "import numpy as np\n",
        "import pandas as pd\n",
        "\n",
        "class ActionPredictionTrading:\n",
        "    \"\"\"\n",
        "    Classe para simular operações de trading e comparar com buy-and-hold,\n",
        "    recebendo os valores reais e preditos para o período de simulação.\n",
        "    \"\"\"\n",
        "\n",
        "    def __init__(self, simulation_df: pd.DataFrame, ticker: str):\n",
        "        \"\"\"\n",
        "        Args:\n",
        "            simulation_df: DataFrame já preparado com as colunas\n",
        "                           ['date', 'actual', 'predicted', 'actual_next']\n",
        "                           para a semana de simulação.\n",
        "            ticker: O ticker da ação que está sendo simulada.\n",
        "        \"\"\"\n",
        "        if not all(col in simulation_df.columns for col in ['date', 'actual', 'predicted', 'actual_next']):\n",
        "            raise ValueError(\"O DataFrame de simulação deve conter as colunas 'date', 'actual', 'predicted', 'actual_next'.\")\n",
        "\n",
        "        self.df = simulation_df.copy()\n",
        "        self.full_df = simulation_df.copy() # full_df também será o período da simulação para B&H\n",
        "        self.ticker = ticker\n",
        "        self.df.dropna(subset=['actual_next'], inplace=True)\n",
        "        self.full_df.dropna(subset=['actual_next'], inplace=True)\n",
        "\n",
        "    def simulate_trading(\n",
        "        self,\n",
        "        stop_loss: bool = False,\n",
        "        initial_capital: float = 100000,\n",
        "        shares_per_trade: int = 100,\n",
        "        stop_type: str = 'percent',\n",
        "        stop_value: float = 0.03,\n",
        "        dead_zone_pct: float = 0.005\n",
        "    ) -> dict:\n",
        "        # Lógica de simulação de trades diários baseada na previsão\n",
        "        # Calcula PnL, capital, taxa de acerto, Sharpe Ratio, Max Drawdown\n",
        "        # ... (código completo da função simulate_trading) ...\n",
        "        capital = initial_capital\n",
        "        capital_history = [capital]\n",
        "        hits = 0\n",
        "        total_trades = 0\n",
        "        profits = []\n",
        "        stop_triggered = 0\n",
        "\n",
        "        for i in range(len(self.df)):\n",
        "            price_today = self.df.iloc[i]['actual']\n",
        "            price_tomorrow = self.df.iloc[i]['actual_next']\n",
        "            predicted_price = self.df.iloc[i]['predicted']\n",
        "\n",
        "            limit = stop_value * price_today if stop_type == 'percent' else stop_value\n",
        "            limit_amt = limit * shares_per_trade\n",
        "\n",
        "            position = 'long' if predicted_price > price_today else 'short'\n",
        "            pnl = ((price_tomorrow - price_today) if position == 'long'\n",
        "                   else (price_today - price_tomorrow)) * shares_per_trade\n",
        "\n",
        "            if stop_loss and pnl < -limit_amt:\n",
        "                pnl = -limit_amt\n",
        "                stop_triggered += 1\n",
        "\n",
        "            capital += pnl\n",
        "            profits.append(pnl)\n",
        "            total_trades += 1\n",
        "            if pnl > 0:\n",
        "                hits += 1\n",
        "            capital_history.append(capital)\n",
        "\n",
        "        if total_trades == 0:\n",
        "            return {\n",
        "                'total_return': 0.0, 'hit_rate': 0.0, 'sharpe_ratio': 0.0,\n",
        "                'max_drawdown': 0.0, 'final_capital': initial_capital,\n",
        "                'total_trades': 0, 'stop_triggered': 0,\n",
        "                'predicted_prices': [], 'today_prices': [], 'tomorrow_prices': [], 'dates': []\n",
        "            }\n",
        "\n",
        "        hit_rate = hits / total_trades if total_trades else 0\n",
        "        total_return = (capital - initial_capital) / initial_capital\n",
        "        sharpe_ratio = (np.mean(profits) / np.std(profits)\n",
        "                        if len(profits) > 1 and np.std(profits) != 0 else 0)\n",
        "        peak = np.maximum.accumulate(capital_history)\n",
        "        max_drawdown = np.max((peak - capital_history) / peak)\n",
        "\n",
        "        return {\n",
        "            'total_return': total_return,\n",
        "            'hit_rate': hit_rate,\n",
        "            'sharpe_ratio': sharpe_ratio,\n",
        "            'max_drawdown': max_drawdown,\n",
        "            'final_capital': capital,\n",
        "            'total_trades': total_trades,\n",
        "            'stop_triggered': stop_triggered,\n",
        "            'predicted_prices': self.df['predicted'].tolist(),\n",
        "            'today_prices': self.df['actual'].tolist(),\n",
        "            'tomorrow_prices': self.df['actual_next'].tolist(),\n",
        "            'dates': self.df['date'].tolist()\n",
        "        }\n",
        "\n",
        "    def simulate_buy_and_hold(\n",
        "        self,\n",
        "        initial_capital: float = 100000,\n",
        "        shares: int = 100\n",
        "    ) -> dict:\n",
        "        # Lógica de simulação da estratégia Buy-and-Hold\n",
        "        # ... (código completo da função simulate_buy_and_hold) ...\n",
        "        df_bh = self.full_df\n",
        "        if df_bh.empty:\n",
        "            raise ValueError(\"DataFrame for Buy-and-Hold is empty. Ensure the data was loaded correctly.\")\n",
        "\n",
        "        price_buy = df_bh.iloc[0]['actual']\n",
        "        price_sell = df_bh.iloc[-1]['actual_next'] if not df_bh['actual_next'].isnull().all() else df_bh.iloc[-1]['actual']\n",
        "\n",
        "        profit = (price_sell - price_buy) * shares\n",
        "        final_capital = initial_capital + profit\n",
        "        total_return = profit / initial_capital\n",
        "\n",
        "        capital_history = [initial_capital]\n",
        "        for i in range(len(df_bh)):\n",
        "            current_capital = initial_capital + (df_bh.iloc[i]['actual'] - price_buy) * shares\n",
        "            capital_history.append(current_capital)\n",
        "\n",
        "        if len(df_bh) > 0 and 'actual_next' in df_bh.columns and not pd.isna(df_bh.iloc[-1]['actual_next']):\n",
        "             capital_history.append(initial_capital + (df_bh.iloc[-1]['actual_next'] - price_buy) * shares)\n",
        "\n",
        "        return {\n",
        "            'total_return': total_return,\n",
        "            'initial_price': price_buy,\n",
        "            'final_price': price_sell,\n",
        "            'final_capital': final_capital,\n",
        "            'shares_held': shares,\n",
        "            'days_held': len(df_bh) + 1,\n",
        "            'capital_history': capital_history\n",
        "        }\n"
      ],
      "metadata": {
        "id": "e-mZBqecdKuR"
      },
      "execution_count": null,
      "outputs": []
    },
    {
      "cell_type": "markdown",
      "source": [
        "# 3. Funções de Carregamento de Dados\n",
        "Estas funções são responsáveis por carregar os dados históricos (stocks.csv) e os resultados pré-calculados do conjunto de teste (.npy). Elas utilizam o @st.cache_data para otimizar o desempenho, garantindo que os dados sejam carregados apenas uma vez."
      ],
      "metadata": {
        "id": "QR_3t2H3dNf8"
      }
    },
    {
      "cell_type": "code",
      "source": [
        "@st.cache_data\n",
        "def load_all_stock_data_simplified():\n",
        "    \"\"\"\n",
        "    Carrega o DataFrame completo onde cada coluna é uma ação.\n",
        "    A primeira coluna é a 'Date'.\n",
        "    \"\"\"\n",
        "    try:\n",
        "        df = pd.read_csv('stocks.csv', parse_dates=['Date'], index_col='Date')\n",
        "        df = df.sort_index() # Garante que as datas estão ordenadas\n",
        "        return df\n",
        "    except FileNotFoundError:\n",
        "        st.error(\"Arquivo 'stocks.csv' não encontrado. Por favor, coloque-o na mesma pasta do script.\")\n",
        "        st.stop()\n",
        "    except Exception as e:\n",
        "        st.error(f\"Erro ao carregar stocks.csv: {e}\")\n",
        "        st.stop()\n",
        "\n",
        "@st.cache_data\n",
        "def load_full_test_set_npy(asset_ticker):\n",
        "    \"\"\"Carrega os arquivos NPY para o conjunto de teste completo do ativo.\"\"\"\n",
        "    real_path = f'./data_npy/{asset_ticker}_real_test_set.npy'\n",
        "    predicted_path = f'./data_npy/{asset_ticker}_predicted_test_set.npy'\n",
        "    try:\n",
        "        real_data = np.load(real_path)\n",
        "        predicted_data = np.load(predicted_path)\n",
        "        if len(real_data) != len(predicted_data):\n",
        "            st.error(f\"Erro: Os arquivos NPY para {asset_ticker} têm tamanhos diferentes. Real: {len(real_data)}, Predito: {len(predicted_data)}.\")\n",
        "            st.stop()\n",
        "        return real_data, predicted_data\n",
        "    except FileNotFoundError:\n",
        "        st.error(f\"Arquivos NPY de conjunto de teste para {asset_ticker} não encontrados. Esperado: '{real_path}' e '{predicted_path}'.\")\n",
        "        st.error(\"Por favor, verifique se seus arquivos NPY estão nomeados corretamente e na pasta './data_npy/'.\")\n",
        "        st.stop()\n",
        "    except Exception as e:\n",
        "        st.error(f\"Erro ao carregar arquivos NPY para {asset_ticker}: {e}\")\n",
        "        st.stop()"
      ],
      "metadata": {
        "id": "NEmSOgESdQMT"
      },
      "execution_count": null,
      "outputs": []
    },
    {
      "cell_type": "markdown",
      "source": [
        "* load_all_stock_data_simplified(): Lê o stocks.csv, define a coluna 'Date' como índice e garante a ordenação por data.\n",
        "\n",
        "* load_full_test_set_npy(): Carrega os arrays NumPy (.npy) contendo os valores reais e previstos do conjunto de teste completo para uma ação específica. Ele espera que esses arquivos estejam na pasta data_npy/ e sigam a convenção de nomenclatura."
      ],
      "metadata": {
        "id": "c8S_tvrTdSQs"
      }
    },
    {
      "cell_type": "markdown",
      "source": [
        "# 4. Função de Extração de Datas da Semana\n",
        "Esta função é crucial para mapear a seleção do usuário (ano, mês, semana) para as 5 datas de trade reais presentes no seu stocks.csv."
      ],
      "metadata": {
        "id": "-goS_dxLderI"
      }
    },
    {
      "cell_type": "code",
      "source": [
        "def get_five_trading_days_for_week(df_asset_index, year, month_name, week_number_str):\n",
        "    \"\"\"\n",
        "    Retorna uma lista de 5 pd.Timestamps (segunda a sexta) para a semana selecionada\n",
        "    a partir do índice de datas do DataFrame de um ativo.\n",
        "    \"\"\"\n",
        "    month_map = {\n",
        "        \"Janeiro\": 1, \"Fevereiro\": 2, \"Março\": 3, \"Abril\": 4, \"Maio\": 5, \"Junho\": 6,\n",
        "        \"Julho\": 7, \"Agosto\": 8, \"Setembro\": 9, \"Outubro\": 10, \"Novembro\": 11, \"Dezembro\": 12\n",
        "    }\n",
        "    month_num = month_map[month_name]\n",
        "    week_num = int(week_number_str.split('ª')[0])\n",
        "\n",
        "    dates_in_month_timestamps = df_asset_index[(df_asset_index.year == year) &\n",
        "                                                 (df_asset_index.month == month_num)].tolist()\n",
        "    dates_in_month_timestamps.sort()\n",
        "\n",
        "    if not dates_in_month_timestamps:\n",
        "        return None, \"Não há dados para o mês e ano selecionados no histórico disponível.\"\n",
        "\n",
        "    # Agrupar datas em \"semanas\" de 5 dias úteis\n",
        "    weeks_list_of_timestamps = [dates_in_month_timestamps[i:i + 5] for i in range(0, len(dates_in_month_timestamps), 5)]\n",
        "\n",
        "    if week_num > 0 and week_num <= len(weeks_list_of_timestamps):\n",
        "        selected_week_timestamps = weeks_list_of_timestamps[week_num - 1]\n",
        "\n",
        "        # Validação crítica: a semana deve ter exatamente 5 dias úteis\n",
        "        if len(selected_week_timestamps) != 5:\n",
        "            return None, f\"A {week_number_str} de {month_name} em {year} tem {len(selected_week_timestamps)} dias negociados, mas esperamos 5 para a simulação de trading. Escolha outra semana.\"\n",
        "\n",
        "        return selected_week_timestamps, None\n",
        "    else:\n",
        "        return None, \"Semana selecionada fora do intervalo de dados disponíveis para o mês.\"\n"
      ],
      "metadata": {
        "id": "lXU-M146dhw6"
      },
      "execution_count": null,
      "outputs": []
    },
    {
      "cell_type": "markdown",
      "source": [
        "* Esta função filtra as datas do índice do DataFrame para o ano e mês selecionados.\n",
        "\n",
        "* Ela então agrupa essas datas em blocos de 5, representando as semanas de trade.\n",
        "\n",
        "* A validação len(selected_week_timestamps) != 5 é crucial para garantir que a simulação ocorra apenas para semanas completas de 5 dias úteis."
      ],
      "metadata": {
        "id": "C7AyE1F8diXw"
      }
    },
    {
      "cell_type": "markdown",
      "source": [
        "# 5. Interface do Usuário (Sidebar)\n",
        "A barra lateral do Streamlit (st.sidebar) permite que o usuário selecione a ação, o ano, o mês e a semana para a simulação, além de configurar os parâmetros da estratégia de trade."
      ],
      "metadata": {
        "id": "4QK__BisdmTY"
      }
    },
    {
      "cell_type": "code",
      "source": [
        "# --- Sidebar para Seleção ---\n",
        "st.sidebar.header(\"Configurações da Simulação\")\n",
        "\n",
        "available_assets = df_all_stocks.columns.tolist()\n",
        "selected_asset = st.sidebar.selectbox(\"Selecione o Ativo:\", available_assets)\n",
        "\n",
        "df_selected_asset_series = df_all_stocks[selected_asset]\n",
        "available_years = sorted(df_selected_asset_series.index.year.unique().tolist(), reverse=True)\n",
        "selected_year = st.sidebar.selectbox(\"Selecione o Ano:\", available_years)\n",
        "\n",
        "available_months = [\"Janeiro\", \"Fevereiro\", \"Março\", \"Abril\", \"Maio\", \"Junho\", \"Julho\", \"Agosto\", \"Setembro\", \"Outubro\", \"Novembro\", \"Dezembro\"]\n",
        "selected_month = st.sidebar.selectbox(\"Selecione o Mês:\", available_months)\n",
        "\n",
        "available_weeks = [\"1ª Semana\", \"2ª Semana\", \"3ª Semana\", \"4ª Semana\", \"5ª Semana\"]\n",
        "selected_week = st.sidebar.selectbox(\"Selecione a Semana:\", available_weeks)\n",
        "\n",
        "# Opções de simulação de trading\n",
        "st.sidebar.subheader(\"Parâmetros da Estratégia\")\n",
        "initial_capital = st.sidebar.number_input(\"Capital Inicial:\", min_value=1000.0, value=100000.0, step=1000.0)\n",
        "shares_per_trade = st.sidebar.number_input(\"Ações por Trade:\", min_value=1, value=100, step=10)\n",
        "enable_stop_loss = st.sidebar.checkbox(\"Habilitar Stop Loss?\", value=True)\n",
        "stop_value_percent = st.sidebar.slider(\"Valor Stop Loss (%)\", min_value=0.5, max_value=10.0, value=3.0, step=0.5) / 100.0"
      ],
      "metadata": {
        "id": "v2JfYBuudpKh"
      },
      "execution_count": null,
      "outputs": []
    },
    {
      "cell_type": "markdown",
      "source": [
        "* st.selectbox: Cria menus suspensos para seleção de ativo, ano, mês e semana.\n",
        "\n",
        "* st.number_input, st.slider, st.checkbox: Permitem ao usuário configurar os parâmetros da simulação de trade."
      ],
      "metadata": {
        "id": "5porh3SUdq_r"
      }
    },
    {
      "cell_type": "markdown",
      "source": [
        "# 6. Lógica Principal da Simulação\n",
        "Este é o bloco de código que é executado quando o botão \"Rodar Simulação\" é clicado. Ele orquestra o carregamento de dados, a preparação para a classe de trading e a execução das simulações."
      ],
      "metadata": {
        "id": "u5Mv_GCPdvT_"
      }
    },
    {
      "cell_type": "code",
      "source": [
        "if st.sidebar.button(\"Rodar Simulação\"):\n",
        "    st.info(f\"Preparando simulação para **{selected_asset}** na **{selected_week}** de **{selected_month}/{selected_year}**...\")\n",
        "\n",
        "    # 1. Carregar os conjuntos de teste completos para o ativo selecionado\n",
        "    real_full_test, predicted_full_test = load_full_test_set_npy(selected_asset)\n",
        "\n",
        "    # 2. Obter as 5 datas correspondentes à semana selecionada para o ativo específico\n",
        "    five_trading_days_timestamps, error_msg = \\\n",
        "        get_five_trading_days_for_week(df_selected_asset_series.index, selected_year, selected_month, selected_week)\n",
        "\n",
        "    if error_msg:\n",
        "        st.error(error_msg)\n",
        "        st.stop()\n",
        "\n",
        "    # 3. Encontrar a fatia correta nos arrays NPY usando as datas\n",
        "    num_test_points = len(real_full_test)\n",
        "    test_set_dates_in_df = df_selected_asset_series.index[-num_test_points:]\n",
        "\n",
        "    try:\n",
        "        start_idx_in_test_set = test_set_dates_in_df.get_loc(five_trading_days_timestamps[0])\n",
        "    except KeyError:\n",
        "        st.error(f\"Erro: A primeira data da semana selecionada ({five_trading_days_timestamps[0].strftime('%Y-%m-%d')}) não foi encontrada no período de teste NPY para {selected_asset}. Verifique a consistência das datas e do conjunto de teste.\")\n",
        "        st.stop()\n",
        "\n",
        "    if (start_idx_in_test_set + 5) > num_test_points:\n",
        "        st.error(f\"Dados NPY insuficientes para a semana selecionada. O conjunto de teste NPY não cobre o período até {five_trading_days_timestamps[-1].strftime('%Y-%m-%d')}.\")\n",
        "        st.stop()\n",
        "\n",
        "    real_values_for_plot = real_full_test[start_idx_in_test_set : start_idx_in_test_set + 5]\n",
        "    predicted_values_for_plot = predicted_full_test[start_idx_in_test_set : start_idx_in_test_set + 5]\n",
        "\n",
        "    dates_for_plot = five_trading_days_timestamps\n",
        "\n",
        "    if not (len(dates_for_plot) == len(real_values_for_plot) == len(predicted_values_for_plot) == 5):\n",
        "        st.error(\"Erro interno: Inconsistência no número de pontos para plotagem. Deveriam ser 5 para a semana de 5 dias.\")\n",
        "        st.stop()\n",
        "\n",
        "    # --- Preparar DataFrame para a Classe de Trading ---\n",
        "    # Este DataFrame terá 4 linhas (para 4 trades: seg, ter, qua, qui)\n",
        "    # A previsão de sexta é usada na decisão de quinta para sexta.\n",
        "    df_for_trading_class = pd.DataFrame({\n",
        "        'date': dates_for_plot[0:4],\n",
        "        'actual': real_values_for_plot[0:4],\n",
        "        'predicted': predicted_values_for_plot[1:5], # Previsão para o dia seguinte\n",
        "        'actual_next': real_values_for_plot[1:5] # Preço real do dia seguinte\n",
        "    })\n",
        "\n",
        "    if df_for_trading_class.empty:\n",
        "        st.warning(\"Nenhum dado de trade preparado para a semana selecionada. Certifique-se de que a semana tem pelo menos 5 dias úteis e dados NPY correspondentes.\")\n",
        "        st.stop()\n",
        "\n",
        "    # --- Executar Simulações de Trading ---\n",
        "    trading_simulator = ActionPredictionTrading(df_for_trading_class, ticker=selected_asset)\n",
        "\n",
        "    model_strategy_results = trading_simulator.simulate_trading(\n",
        "        stop_loss=enable_stop_loss,\n",
        "        initial_capital=initial_capital,\n",
        "        shares_per_trade=shares_per_trade,\n",
        "        stop_value=stop_value_percent,\n",
        "        stop_type='percent'\n",
        "    )\n",
        "\n",
        "    buy_and_hold_results = trading_simulator.simulate_buy_and_hold(\n",
        "        initial_capital=initial_capital,\n",
        "        shares=shares_per_trade\n",
        "    )\n"
      ],
      "metadata": {
        "id": "fwLw2fOtdzYn"
      },
      "execution_count": null,
      "outputs": []
    },
    {
      "cell_type": "markdown",
      "source": [
        "* Carregamento e Fatiamento de NPYs: Os arrays .npy completos são carregados, e a fatia correspondente à semana de 5 dias é extraída com base nas datas.\n",
        "\n",
        "* df_for_trading_class: Este DataFrame é crucial. Ele é construído com 4 linhas, onde cada linha representa um dia de trade (Segunda a Quinta). Para cada dia, ele contém:\n",
        "\n",
        "  * date: A data do dia atual.\n",
        "\n",
        "  * actual: O preço de fechamento do dia atual (preço de \"hoje\").\n",
        "\n",
        "  * predicted: A previsão do modelo para o dia seguinte (previsão para \"amanhã\", feita \"hoje\").\n",
        "\n",
        "  * actual_next: O preço real de fechamento do dia seguinte (preço real de \"amanhã\", para calcular o PnL).\n",
        "\n",
        "* Execução das Simulações: As funções simulate_trading e simulate_buy_and_hold da classe ActionPredictionTrading são chamadas com os parâmetros definidos pelo usuário."
      ],
      "metadata": {
        "id": "8Y6WwKj5dz8Y"
      }
    },
    {
      "cell_type": "markdown",
      "source": [
        "# 7. Plotagem Dinâmica do Gráfico\n",
        "Esta seção é responsável por exibir o gráfico de preços reais vs. previstos de forma dinâmica, adicionando um ponto por vez."
      ],
      "metadata": {
        "id": "ICjWItr4eAuI"
      }
    },
    {
      "cell_type": "code",
      "source": [
        " # --- Início da Plotagem Dinâmica (Gráfico) ---\n",
        "    st.subheader(f\"Simulação Dinâmica para {selected_asset}\")\n",
        "\n",
        "    initial_data_display = pd.DataFrame({\n",
        "        'Data': pd.to_datetime([]),\n",
        "        'Preço Real': [],\n",
        "        'Preço Previsto': []\n",
        "    })\n",
        "\n",
        "    fig = go.Figure()\n",
        "    fig.add_trace(go.Scatter(x=[], y=[], mode='lines+markers', name='Preço Real', line=dict(color='blue', width=2)))\n",
        "    fig.add_trace(go.Scatter(x=[], y=[], mode='lines+markers', name='Preço Previsto', line=dict(color='red', dash='dot', width=2)))\n",
        "\n",
        "    fig.update_layout(\n",
        "        title='Preços Reais vs. Preços Previstos (Simulação Semanal)',\n",
        "        xaxis_title='Data',\n",
        "        yaxis_title='Preço de Fechamento',\n",
        "        hovermode=\"x unified\",\n",
        "        legend=dict(x=0.01, y=0.99, bordercolor=\"Black\", borderwidth=1),\n",
        "        xaxis=dict(\n",
        "            tickformat='%d/%m/%Y',\n",
        "            automargin=True\n",
        "        )\n",
        "    )\n",
        "\n",
        "    chart_placeholder = st.empty()\n",
        "    table_placeholder = st.empty()\n",
        "\n",
        "    st.info(\"Simulação de gráfico em andamento... Aguarde os pontos serem plotados. ⏳\")\n",
        "\n",
        "    display_df = initial_data_display.copy()\n",
        "\n",
        "    for i in range(len(dates_for_plot)): # Itera sobre os 5 dias para o gráfico\n",
        "        new_row = pd.DataFrame({\n",
        "            'Data': [dates_for_plot[i]],\n",
        "            'Preço Real': [real_values_for_plot[i]],\n",
        "            'Preço Previsto': [predicted_values_for_plot[i]]\n",
        "        })\n",
        "        display_df = pd.concat([display_df, new_row], ignore_index=True)\n",
        "\n",
        "        with fig.batch_update():\n",
        "            fig.data[0].x = display_df['Data']\n",
        "            fig.data[0].y = display_df['Preço Real']\n",
        "            fig.data[1].x = display_df['Data']\n",
        "            fig.data[1].y = display_df['Preço Previsto']\n",
        "\n",
        "            # Força o Plotly a usar apenas as datas que temos como ticks\n",
        "            fig.update_xaxes(\n",
        "                tickmode='array',\n",
        "                tickvals=display_df['Data'].tolist(),\n",
        "                ticktext=[d.strftime('%d/%m') for d in display_df['Data']]\n",
        "            )\n",
        "\n",
        "        with chart_placeholder:\n",
        "            st.plotly_chart(fig, use_container_width=True)\n",
        "\n",
        "        with table_placeholder:\n",
        "            st.dataframe(display_df.set_index('Data').style.format(precision=2))\n",
        "\n",
        "        time.sleep(0.7)\n",
        "\n",
        "    st.success(\"Simulação de gráfico concluída! ✅\")"
      ],
      "metadata": {
        "id": "hb_ZLi4OeFG7"
      },
      "execution_count": null,
      "outputs": []
    },
    {
      "cell_type": "markdown",
      "source": [
        "* st.empty(): Cria placeholders para o gráfico e a tabela, permitindo que sejam atualizados no mesmo local.\n",
        "\n",
        "* go.Figure() e fig.batch_update(): Usados para criar e atualizar o gráfico Plotly de forma eficiente.\n",
        "\n",
        "* Loop for i in range(len(dates_for_plot)): Itera sobre os 5 dias da semana, adicionando um ponto por vez ao gráfico e à tabela.\n",
        "\n",
        "* time.sleep(0.7): Introduz um atraso para criar o efeito de \"tempo real\".\n",
        "\n",
        "* fig.update_xaxes(tickmode='array', ...): Garante que o eixo X do gráfico exiba apenas as 5 datas relevantes, sem repetições."
      ],
      "metadata": {
        "id": "XhzJwApweFuD"
      }
    },
    {
      "cell_type": "markdown",
      "source": [
        "# 8. Exibição dos Resultados das Estratégias\n",
        "Após a simulação gráfica, uma tabela comparativa é exibida, mostrando as métricas de desempenho para a estratégia baseada no modelo e para a estratégia Buy-and-Hold."
      ],
      "metadata": {
        "id": "CS1OhN3AeK-x"
      }
    },
    {
      "cell_type": "code",
      "source": [
        "  # --- Exibir Resultados das Estratégias (Tabela) ---\n",
        "    st.subheader(\"📊 Comparativo de Estratégias de Trade\")\n",
        "\n",
        "    results_data = {\n",
        "        \"Métrica\": [\n",
        "            \"Retorno Total\",\n",
        "            \"Capital Final\",\n",
        "            \"Taxa de Acerto (Hit Rate)\",\n",
        "            \"Sharpe Ratio\",\n",
        "            \"Max Drawdown\",\n",
        "            \"Total de Trades\",\n",
        "            \"Stop Loss Acionado\"\n",
        "        ],\n",
        "        \"Estratégia do Modelo\": [\n",
        "            f\"{model_strategy_results['total_return']:.2%}\",\n",
        "            f\"R$ {model_strategy_results['final_capital']:,.2f}\",\n",
        "            f\"{model_strategy_results['hit_rate']:.2%}\",\n",
        "            f\"{model_strategy_results['sharpe_ratio']:.2f}\",\n",
        "            f\"{model_strategy_results['max_drawdown']:.2%}\",\n",
        "            f\"{model_strategy_results['total_trades']}\",\n",
        "            f\"{model_strategy_results['stop_triggered']}\"\n",
        "        ],\n",
        "        \"Buy-and-Hold\": [\n",
        "            f\"{buy_and_hold_results['total_return']:.2%}\",\n",
        "            f\"R$ {buy_and_hold_results['final_capital']:,.2f}\",\n",
        "            \"-\",\n",
        "            \"-\",\n",
        "            \"-\",\n",
        "            \"-\",\n",
        "            \"-\"\n",
        "        ]\n",
        "    }\n",
        "\n",
        "    df_results = pd.DataFrame(results_data)\n",
        "    st.table(df_results.set_index(\"Métrica\"))\n",
        "\n",
        "    st.markdown(\"\"\"\n",
        "    **Observações:**\n",
        "    * **Retorno Total:** Lucro/Prejuízo percentual em relação ao capital inicial.\n",
        "    * **Capital Final:** Valor final do capital após a simulação.\n",
        "    * **Taxa de Acerto (Hit Rate):** Percentual de trades lucrativos.\n",
        "    * **Sharpe Ratio:** Mede o retorno da estratégia ajustado ao risco. Valores maiores são melhores.\n",
        "    * **Max Drawdown:** Maior queda percentual do capital a partir de um pico.\n",
        "    \"\"\")\n"
      ],
      "metadata": {
        "id": "TYvVViMGeOFZ"
      },
      "execution_count": null,
      "outputs": []
    },
    {
      "cell_type": "markdown",
      "source": [
        "\n",
        "* Os resultados das simulações são formatados e apresentados em um pd.DataFrame, que é então exibido como uma tabela interativa usando st.table().\n",
        "\n",
        "* Explicações adicionais sobre as métricas são fornecidas para clareza."
      ],
      "metadata": {
        "id": "JMJHyR9peSHB"
      }
    },
    {
      "cell_type": "markdown",
      "source": [
        "# Conclusão\n",
        "Este notebook detalhou as principais componentes do seu aplicativo Streamlit, desde o carregamento e preparação de dados até a simulação de estratégias de trading e a visualização dinâmica dos resultados. A modularidade do código e o uso de funções de cache do Streamlit contribuem para um aplicativo eficiente e fácil de manter."
      ],
      "metadata": {
        "id": "f3YIPX0NeVH2"
      }
    }
  ]
}